{
 "cells": [
  {
   "cell_type": "code",
   "execution_count": 5,
   "id": "fc763bc7-da6c-4750-843e-e2d883ff8a92",
   "metadata": {},
   "outputs": [
    {
     "name": "stdout",
     "output_type": "stream",
     "text": [
      "Collecting pycaw\n",
      "  Downloading pycaw-20240210-py3-none-any.whl.metadata (1.7 kB)\n",
      "Requirement already satisfied: comtypes in d:\\users\\vaibhav vashishtha\\anaconda3\\lib\\site-packages (from pycaw) (1.4.4)\n",
      "Requirement already satisfied: psutil in c:\\users\\vaibhav vashishtha\\appdata\\roaming\\python\\python312\\site-packages (from pycaw) (6.0.0)\n",
      "Downloading pycaw-20240210-py3-none-any.whl (24 kB)\n",
      "Installing collected packages: pycaw\n",
      "Successfully installed pycaw-20240210\n"
     ]
    }
   ],
   "source": [
    "!pip install pycaw\n",
    "\n"
   ]
  },
  {
   "cell_type": "code",
   "execution_count": null,
   "id": "5fbdba5d-b320-405f-867a-7075d240dfd3",
   "metadata": {},
   "outputs": [],
   "source": []
  }
 ],
 "metadata": {
  "kernelspec": {
   "display_name": "Python 3 (ipykernel)",
   "language": "python",
   "name": "python3"
  },
  "language_info": {
   "codemirror_mode": {
    "name": "ipython",
    "version": 3
   },
   "file_extension": ".py",
   "mimetype": "text/x-python",
   "name": "python",
   "nbconvert_exporter": "python",
   "pygments_lexer": "ipython3",
   "version": "3.12.4"
  }
 },
 "nbformat": 4,
 "nbformat_minor": 5
}
