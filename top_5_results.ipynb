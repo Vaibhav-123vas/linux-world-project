{
 "cells": [
  {
   "cell_type": "code",
   "execution_count": 1,
   "id": "687f6f64-9438-468b-9573-eb9e38082e4d",
   "metadata": {},
   "outputs": [
    {
     "name": "stdout",
     "output_type": "stream",
     "text": [
      "Collecting googlesearch-python\n",
      "  Downloading googlesearch_python-1.2.4-py3-none-any.whl.metadata (2.6 kB)\n",
      "Requirement already satisfied: beautifulsoup4>=4.9 in d:\\users\\vaibhav vashishtha\\anaconda3\\lib\\site-packages (from googlesearch-python) (4.12.3)\n",
      "Requirement already satisfied: requests>=2.20 in d:\\users\\vaibhav vashishtha\\anaconda3\\lib\\site-packages (from googlesearch-python) (2.32.2)\n",
      "Requirement already satisfied: soupsieve>1.2 in d:\\users\\vaibhav vashishtha\\anaconda3\\lib\\site-packages (from beautifulsoup4>=4.9->googlesearch-python) (2.5)\n",
      "Requirement already satisfied: charset-normalizer<4,>=2 in d:\\users\\vaibhav vashishtha\\anaconda3\\lib\\site-packages (from requests>=2.20->googlesearch-python) (2.0.4)\n",
      "Requirement already satisfied: idna<4,>=2.5 in d:\\users\\vaibhav vashishtha\\anaconda3\\lib\\site-packages (from requests>=2.20->googlesearch-python) (3.7)\n",
      "Requirement already satisfied: urllib3<3,>=1.21.1 in d:\\users\\vaibhav vashishtha\\anaconda3\\lib\\site-packages (from requests>=2.20->googlesearch-python) (2.2.2)\n",
      "Requirement already satisfied: certifi>=2017.4.17 in d:\\users\\vaibhav vashishtha\\anaconda3\\lib\\site-packages (from requests>=2.20->googlesearch-python) (2024.6.2)\n",
      "Downloading googlesearch_python-1.2.4-py3-none-any.whl (4.5 kB)\n",
      "Installing collected packages: googlesearch-python\n",
      "Successfully installed googlesearch-python-1.2.4\n",
      "Note: you may need to restart the kernel to use updated packages.\n"
     ]
    }
   ],
   "source": [
    "pip install googlesearch-python\n"
   ]
  },
  {
   "cell_type": "code",
   "execution_count": 3,
   "id": "bab97c92-6762-4970-b56d-d8f26addc8a8",
   "metadata": {},
   "outputs": [
    {
     "name": "stdout",
     "output_type": "stream",
     "text": [
      "Result 1: https://www.datacamp.com/blog/top-python-libraries-for-data-science\n",
      "Result 2: https://www.geeksforgeeks.org/python-libraries-for-data-science/\n",
      "Result 3: https://www.simplilearn.com/top-python-libraries-for-data-science-article\n",
      "Result 4: https://builtin.com/data-science/python-libraries-data-science\n",
      "Result 5: https://www.analyticsvidhya.com/blog/2020/11/top-13-python-libraries-every-data-science-aspirant-must-know-and-their-resources/\n"
     ]
    }
   ],
   "source": [
    "from googlesearch import search\n",
    "\n",
    "def google_search(query, num_results=3):\n",
    "    search_results = search(query, num_results=num_results)\n",
    "    return search_results\n",
    "\n",
    "# Define your search query\n",
    "query = \"Top 5 Python libraries for data science\"\n",
    "\n",
    "# Perform the search\n",
    "results = google_search(query)\n",
    "\n",
    "# Print the results\n",
    "for i, result in enumerate(results, start=1):\n",
    "    print(f\"Result {i}: {result}\")\n"
   ]
  },
  {
   "cell_type": "code",
   "execution_count": null,
   "id": "48a7e0e3-f06d-4110-bcc4-a17299fb7045",
   "metadata": {},
   "outputs": [],
   "source": []
  }
 ],
 "metadata": {
  "kernelspec": {
   "display_name": "Python 3 (ipykernel)",
   "language": "python",
   "name": "python3"
  },
  "language_info": {
   "codemirror_mode": {
    "name": "ipython",
    "version": 3
   },
   "file_extension": ".py",
   "mimetype": "text/x-python",
   "name": "python",
   "nbconvert_exporter": "python",
   "pygments_lexer": "ipython3",
   "version": "3.12.4"
  }
 },
 "nbformat": 4,
 "nbformat_minor": 5
}
