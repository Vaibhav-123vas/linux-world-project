{
 "cells": [
  {
   "cell_type": "code",
   "execution_count": 1,
   "id": "13a96756-0317-44ab-996b-f27e04598c4c",
   "metadata": {},
   "outputs": [
    {
     "name": "stdout",
     "output_type": "stream",
     "text": [
      "Collecting twilio\n",
      "  Downloading twilio-9.2.2-py2.py3-none-any.whl.metadata (12 kB)\n",
      "Requirement already satisfied: requests>=2.0.0 in d:\\users\\vaibhav vashishtha\\anaconda3\\lib\\site-packages (from twilio) (2.32.2)\n",
      "Requirement already satisfied: PyJWT<3.0.0,>=2.0.0 in d:\\users\\vaibhav vashishtha\\anaconda3\\lib\\site-packages (from twilio) (2.8.0)\n",
      "Requirement already satisfied: aiohttp>=3.8.4 in d:\\users\\vaibhav vashishtha\\anaconda3\\lib\\site-packages (from twilio) (3.9.5)\n",
      "Collecting aiohttp-retry>=2.8.3 (from twilio)\n",
      "  Downloading aiohttp_retry-2.8.3-py3-none-any.whl.metadata (8.9 kB)\n",
      "Requirement already satisfied: aiosignal>=1.1.2 in d:\\users\\vaibhav vashishtha\\anaconda3\\lib\\site-packages (from aiohttp>=3.8.4->twilio) (1.2.0)\n",
      "Requirement already satisfied: attrs>=17.3.0 in d:\\users\\vaibhav vashishtha\\anaconda3\\lib\\site-packages (from aiohttp>=3.8.4->twilio) (23.1.0)\n",
      "Requirement already satisfied: frozenlist>=1.1.1 in d:\\users\\vaibhav vashishtha\\anaconda3\\lib\\site-packages (from aiohttp>=3.8.4->twilio) (1.4.0)\n",
      "Requirement already satisfied: multidict<7.0,>=4.5 in d:\\users\\vaibhav vashishtha\\anaconda3\\lib\\site-packages (from aiohttp>=3.8.4->twilio) (6.0.4)\n",
      "Requirement already satisfied: yarl<2.0,>=1.0 in d:\\users\\vaibhav vashishtha\\anaconda3\\lib\\site-packages (from aiohttp>=3.8.4->twilio) (1.9.3)\n",
      "Requirement already satisfied: charset-normalizer<4,>=2 in d:\\users\\vaibhav vashishtha\\anaconda3\\lib\\site-packages (from requests>=2.0.0->twilio) (2.0.4)\n",
      "Requirement already satisfied: idna<4,>=2.5 in d:\\users\\vaibhav vashishtha\\anaconda3\\lib\\site-packages (from requests>=2.0.0->twilio) (3.7)\n",
      "Requirement already satisfied: urllib3<3,>=1.21.1 in d:\\users\\vaibhav vashishtha\\anaconda3\\lib\\site-packages (from requests>=2.0.0->twilio) (2.2.2)\n",
      "Requirement already satisfied: certifi>=2017.4.17 in d:\\users\\vaibhav vashishtha\\anaconda3\\lib\\site-packages (from requests>=2.0.0->twilio) (2024.6.2)\n",
      "Downloading twilio-9.2.2-py2.py3-none-any.whl (1.8 MB)\n",
      "   ---------------------------------------- 0.0/1.8 MB ? eta -:--:--\n",
      "   ---------------------------------------- 0.0/1.8 MB ? eta -:--:--\n",
      "    --------------------------------------- 0.0/1.8 MB 660.6 kB/s eta 0:00:03\n",
      "   - -------------------------------------- 0.1/1.8 MB 650.2 kB/s eta 0:00:03\n",
      "   - -------------------------------------- 0.1/1.8 MB 651.6 kB/s eta 0:00:03\n",
      "   -- ------------------------------------- 0.1/1.8 MB 653.6 kB/s eta 0:00:03\n",
      "   --- ------------------------------------ 0.1/1.8 MB 605.3 kB/s eta 0:00:03\n",
      "   --- ------------------------------------ 0.2/1.8 MB 577.4 kB/s eta 0:00:03\n",
      "   ---- ----------------------------------- 0.2/1.8 MB 586.1 kB/s eta 0:00:03\n",
      "   ---- ----------------------------------- 0.2/1.8 MB 595.3 kB/s eta 0:00:03\n",
      "   ----- ---------------------------------- 0.2/1.8 MB 576.2 kB/s eta 0:00:03\n",
      "   ----- ---------------------------------- 0.2/1.8 MB 558.1 kB/s eta 0:00:03\n",
      "   ------ --------------------------------- 0.3/1.8 MB 570.1 kB/s eta 0:00:03\n",
      "   ------- -------------------------------- 0.3/1.8 MB 578.5 kB/s eta 0:00:03\n",
      "   ------- -------------------------------- 0.3/1.8 MB 563.8 kB/s eta 0:00:03\n",
      "   -------- ------------------------------- 0.4/1.8 MB 573.4 kB/s eta 0:00:03\n",
      "   -------- ------------------------------- 0.4/1.8 MB 562.0 kB/s eta 0:00:03\n",
      "   --------- ------------------------------ 0.4/1.8 MB 555.4 kB/s eta 0:00:03\n",
      "   ---------- ----------------------------- 0.5/1.8 MB 574.8 kB/s eta 0:00:03\n",
      "   ---------- ----------------------------- 0.5/1.8 MB 565.3 kB/s eta 0:00:03\n",
      "   ----------- ---------------------------- 0.5/1.8 MB 570.2 kB/s eta 0:00:03\n",
      "   ------------ --------------------------- 0.5/1.8 MB 576.4 kB/s eta 0:00:03\n",
      "   ------------ --------------------------- 0.6/1.8 MB 580.2 kB/s eta 0:00:03\n",
      "   ------------- -------------------------- 0.6/1.8 MB 571.8 kB/s eta 0:00:03\n",
      "   ------------- -------------------------- 0.6/1.8 MB 577.0 kB/s eta 0:00:02\n",
      "   -------------- ------------------------- 0.6/1.8 MB 569.9 kB/s eta 0:00:02\n",
      "   -------------- ------------------------- 0.7/1.8 MB 573.4 kB/s eta 0:00:02\n",
      "   --------------- ------------------------ 0.7/1.8 MB 567.9 kB/s eta 0:00:02\n",
      "   ---------------- ----------------------- 0.7/1.8 MB 571.2 kB/s eta 0:00:02\n",
      "   ---------------- ----------------------- 0.7/1.8 MB 567.6 kB/s eta 0:00:02\n",
      "   ----------------- ---------------------- 0.8/1.8 MB 578.3 kB/s eta 0:00:02\n",
      "   ----------------- ---------------------- 0.8/1.8 MB 572.2 kB/s eta 0:00:02\n",
      "   ------------------ --------------------- 0.8/1.8 MB 568.9 kB/s eta 0:00:02\n",
      "   ------------------- -------------------- 0.9/1.8 MB 578.6 kB/s eta 0:00:02\n",
      "   -------------------- ------------------- 0.9/1.8 MB 574.1 kB/s eta 0:00:02\n",
      "   -------------------- ------------------- 0.9/1.8 MB 575.9 kB/s eta 0:00:02\n",
      "   --------------------- ------------------ 0.9/1.8 MB 578.8 kB/s eta 0:00:02\n",
      "   --------------------- ------------------ 1.0/1.8 MB 579.7 kB/s eta 0:00:02\n",
      "   ---------------------- ----------------- 1.0/1.8 MB 576.3 kB/s eta 0:00:02\n",
      "   ----------------------- ---------------- 1.0/1.8 MB 579.3 kB/s eta 0:00:02\n",
      "   ----------------------- ---------------- 1.1/1.8 MB 581.2 kB/s eta 0:00:02\n",
      "   ------------------------ --------------- 1.1/1.8 MB 577.0 kB/s eta 0:00:02\n",
      "   ------------------------- -------------- 1.1/1.8 MB 584.4 kB/s eta 0:00:02\n",
      "   ------------------------- -------------- 1.1/1.8 MB 570.6 kB/s eta 0:00:02\n",
      "   ------------------------- -------------- 1.1/1.8 MB 572.1 kB/s eta 0:00:02\n",
      "   -------------------------- ------------- 1.2/1.8 MB 569.7 kB/s eta 0:00:02\n",
      "   --------------------------- ------------ 1.2/1.8 MB 571.6 kB/s eta 0:00:01\n",
      "   --------------------------- ------------ 1.2/1.8 MB 572.7 kB/s eta 0:00:01\n",
      "   --------------------------- ------------ 1.2/1.8 MB 569.2 kB/s eta 0:00:01\n",
      "   ---------------------------- ----------- 1.3/1.8 MB 571.7 kB/s eta 0:00:01\n",
      "   ----------------------------- ---------- 1.3/1.8 MB 573.4 kB/s eta 0:00:01\n",
      "   ------------------------------ --------- 1.3/1.8 MB 575.1 kB/s eta 0:00:01\n",
      "   ------------------------------ --------- 1.4/1.8 MB 572.7 kB/s eta 0:00:01\n",
      "   ------------------------------- -------- 1.4/1.8 MB 577.8 kB/s eta 0:00:01\n",
      "   ------------------------------- -------- 1.4/1.8 MB 570.8 kB/s eta 0:00:01\n",
      "   -------------------------------- ------- 1.4/1.8 MB 569.3 kB/s eta 0:00:01\n",
      "   --------------------------------- ------ 1.5/1.8 MB 570.9 kB/s eta 0:00:01\n",
      "   --------------------------------- ------ 1.5/1.8 MB 571.3 kB/s eta 0:00:01\n",
      "   ---------------------------------- ----- 1.5/1.8 MB 573.4 kB/s eta 0:00:01\n",
      "   ----------------------------------- ---- 1.5/1.8 MB 574.9 kB/s eta 0:00:01\n",
      "   ----------------------------------- ---- 1.6/1.8 MB 568.7 kB/s eta 0:00:01\n",
      "   ------------------------------------ --- 1.6/1.8 MB 573.8 kB/s eta 0:00:01\n",
      "   ------------------------------------ --- 1.6/1.8 MB 567.9 kB/s eta 0:00:01\n",
      "   ------------------------------------- -- 1.6/1.8 MB 569.3 kB/s eta 0:00:01\n",
      "   -------------------------------------- - 1.7/1.8 MB 574.4 kB/s eta 0:00:01\n",
      "   -------------------------------------- - 1.7/1.8 MB 572.2 kB/s eta 0:00:01\n",
      "   ---------------------------------------  1.7/1.8 MB 572.9 kB/s eta 0:00:01\n",
      "   ---------------------------------------  1.8/1.8 MB 574.3 kB/s eta 0:00:01\n",
      "   ---------------------------------------- 1.8/1.8 MB 571.2 kB/s eta 0:00:00\n",
      "Downloading aiohttp_retry-2.8.3-py3-none-any.whl (9.8 kB)\n",
      "Installing collected packages: aiohttp-retry, twilio\n",
      "Successfully installed aiohttp-retry-2.8.3 twilio-9.2.2\n",
      "Note: you may need to restart the kernel to use updated packages.\n"
     ]
    }
   ],
   "source": [
    "pip install twilio\n"
   ]
  },
  {
   "cell_type": "code",
   "execution_count": 2,
   "id": "8f1a4552-1dd3-40f4-8a30-3d0d9fc623bd",
   "metadata": {},
   "outputs": [
    {
     "name": "stdout",
     "output_type": "stream",
     "text": [
      "SM6af60d913958437c367a2e487bc2be11\n"
     ]
    }
   ],
   "source": [
    "from twilio.rest import Client\n",
    "\n",
    "# Your Account SID from twilio.com/console\n",
    "account_sid = 'AC6e6efb5f03c0b922f201478e9b7f0cdf'\n",
    "# Your Auth Token from twilio.com/console\n",
    "auth_token = '4a5d3853099c468b3ea0bc548337b685'\n",
    "\n",
    "client = Client(account_sid, auth_token)\n",
    "\n",
    "message = client.messages.create(\n",
    "    to=\"+918077587034\",  # Replace with the recipient's phone number\n",
    "    from_=\"+14302264894\",  # Replace with your Twilio phone number\n",
    "    body=\"Hello from Python!\")\n",
    "\n",
    "print(message.sid)\n"
   ]
  },
  {
   "cell_type": "code",
   "execution_count": null,
   "id": "21689c1a-0680-4fe6-93df-c27fba2bee03",
   "metadata": {},
   "outputs": [],
   "source": []
  }
 ],
 "metadata": {
  "kernelspec": {
   "display_name": "Python 3 (ipykernel)",
   "language": "python",
   "name": "python3"
  },
  "language_info": {
   "codemirror_mode": {
    "name": "ipython",
    "version": 3
   },
   "file_extension": ".py",
   "mimetype": "text/x-python",
   "name": "python",
   "nbconvert_exporter": "python",
   "pygments_lexer": "ipython3",
   "version": "3.12.4"
  }
 },
 "nbformat": 4,
 "nbformat_minor": 5
}
