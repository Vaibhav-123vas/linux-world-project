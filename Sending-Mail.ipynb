{
 "cells": [
  {
   "cell_type": "code",
   "execution_count": 22,
   "id": "77bdfff8-8366-4568-8a23-362a4498f12e",
   "metadata": {},
   "outputs": [
    {
     "name": "stdout",
     "output_type": "stream",
     "text": [
      "Mail sent successfully\n"
     ]
    }
   ],
   "source": [
    "import smtplib as s\n",
    "\n",
    "try:\n",
    "    # Establish a connection to the SMTP server\n",
    "    ob = s.SMTP('smtp.gmail.com', 587)\n",
    "    ob.ehlo()\n",
    "    ob.starttls()\n",
    "\n",
    "    # Log in to the email account\n",
    "    ob.login('vaibhavvashishtha31@gmail.com', 'cwfv vdou vtlu hjow')  # Use app-specific password if 2FA is enabled\n",
    "\n",
    "    # Email subject and body\n",
    "    subject = \"test python\"\n",
    "    body = \"I Love Python\"\n",
    "    message = f\"Subject: {subject}\\n\\n{body}\"\n",
    "\n",
    "    # List of recipients\n",
    "    listadd = ['rashmibharadwaj123@gmail.com']\n",
    "\n",
    "    # Send the email\n",
    "    ob.sendmail('vaibhavvashishtha@gmail.com', listadd, message)\n",
    "    print(\"Mail sent successfully\")\n",
    "\n",
    "except s.SMTPAuthenticationError as e:\n",
    "    print(f\"SMTP Authentication Error: {e}\")\n",
    "except s.SMTPException as e:\n",
    "    print(f\"SMTP error: {e}\")\n",
    "except Exception as e:\n",
    "    print(f\"Error: {e}\")\n",
    "\n",
    "finally:\n",
    "    # Quit the SMTP session\n",
    "    ob.quit()\n"
   ]
  },
  {
   "cell_type": "code",
   "execution_count": null,
   "id": "563afb71-6dd4-446b-8b14-07d9cfc529ab",
   "metadata": {},
   "outputs": [],
   "source": []
  },
  {
   "cell_type": "code",
   "execution_count": null,
   "id": "6f3d0920-606d-4b40-b11d-780fda23b52a",
   "metadata": {},
   "outputs": [],
   "source": []
  }
 ],
 "metadata": {
  "kernelspec": {
   "display_name": "Python 3 (ipykernel)",
   "language": "python",
   "name": "python3"
  },
  "language_info": {
   "codemirror_mode": {
    "name": "ipython",
    "version": 3
   },
   "file_extension": ".py",
   "mimetype": "text/x-python",
   "name": "python",
   "nbconvert_exporter": "python",
   "pygments_lexer": "ipython3",
   "version": "3.12.4"
  }
 },
 "nbformat": 4,
 "nbformat_minor": 5
}
