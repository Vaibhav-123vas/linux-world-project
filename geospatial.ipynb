{
 "cells": [
  {
   "cell_type": "code",
   "execution_count": 1,
   "id": "ad7a68c3-bad9-4ca4-8da1-f75a93acabb0",
   "metadata": {},
   "outputs": [
    {
     "name": "stdout",
     "output_type": "stream",
     "text": [
      "Requirement already satisfied: requests in d:\\users\\vaibhav vashishtha\\anaconda3\\lib\\site-packages (2.32.2)Note: you may need to restart the kernel to use updated packages.\n",
      "\n",
      "Collecting geopy\n",
      "  Downloading geopy-2.4.1-py3-none-any.whl.metadata (6.8 kB)\n",
      "Requirement already satisfied: charset-normalizer<4,>=2 in d:\\users\\vaibhav vashishtha\\anaconda3\\lib\\site-packages (from requests) (2.0.4)\n",
      "Requirement already satisfied: idna<4,>=2.5 in d:\\users\\vaibhav vashishtha\\anaconda3\\lib\\site-packages (from requests) (3.7)\n",
      "Requirement already satisfied: urllib3<3,>=1.21.1 in d:\\users\\vaibhav vashishtha\\anaconda3\\lib\\site-packages (from requests) (2.2.2)\n",
      "Requirement already satisfied: certifi>=2017.4.17 in d:\\users\\vaibhav vashishtha\\anaconda3\\lib\\site-packages (from requests) (2024.7.4)\n",
      "Collecting geographiclib<3,>=1.52 (from geopy)\n",
      "  Downloading geographiclib-2.0-py3-none-any.whl.metadata (1.4 kB)\n",
      "Downloading geopy-2.4.1-py3-none-any.whl (125 kB)\n",
      "   ---------------------------------------- 0.0/125.4 kB ? eta -:--:--\n",
      "   --------- ------------------------------ 30.7/125.4 kB ? eta -:--:--\n",
      "   --------- ------------------------------ 30.7/125.4 kB ? eta -:--:--\n",
      "   ---------------------------- ---------- 92.2/125.4 kB 655.4 kB/s eta 0:00:01\n",
      "   ---------------------------- ---------- 92.2/125.4 kB 655.4 kB/s eta 0:00:01\n",
      "   -------------------------------------- 125.4/125.4 kB 567.5 kB/s eta 0:00:00\n",
      "Downloading geographiclib-2.0-py3-none-any.whl (40 kB)\n",
      "   ---------------------------------------- 0.0/40.3 kB ? eta -:--:--\n",
      "   ---------------------------------------- 40.3/40.3 kB 1.9 MB/s eta 0:00:00\n",
      "Installing collected packages: geographiclib, geopy\n",
      "Successfully installed geographiclib-2.0 geopy-2.4.1\n"
     ]
    }
   ],
   "source": [
    "pip install requests geopy\n"
   ]
  },
  {
   "cell_type": "code",
   "execution_count": 15,
   "id": "883cf616-474f-4de2-9b3b-17ec88b650b8",
   "metadata": {},
   "outputs": [
    {
     "name": "stdout",
     "output_type": "stream",
     "text": [
      "Location: 38-20 Review Avenue, New York, NY 11101, United States of America\n"
     ]
    }
   ],
   "source": [
    "import requests\n",
    "\n",
    "def get_location_name_with_opencage(latitude, longitude, api_key):\n",
    "    url = f\"https://api.opencagedata.com/geocode/v1/json?q={latitude}+{longitude}&key={api_key}\"\n",
    "    response = requests.get(url)\n",
    "    \n",
    "    if response.status_code == 200:\n",
    "        data = response.json()\n",
    "        if data['results']:  # Check if the results list is not empty\n",
    "            return data['results'][0]['formatted']\n",
    "        else:\n",
    "            return \"No location found for the given coordinates.\"\n",
    "    else:\n",
    "        return f\"Error: {response.status_code}, {response.text}\"\n",
    "\n",
    "# Example usage\n",
    "latitude, longitude = 40.730610, -73.935242  # Example coordinates\n",
    "api_key = \"3109909814014cbfaf5e0613174f2637\"  # Replace with your actual OpenCage API key\n",
    "location_name = get_location_name_with_opencage(latitude, longitude, api_key)\n",
    "print(f\"Location: {location_name}\")\n"
   ]
  },
  {
   "cell_type": "code",
   "execution_count": null,
   "id": "7d068f58-0f2c-4a1b-a943-17a2dcc09c40",
   "metadata": {},
   "outputs": [],
   "source": []
  }
 ],
 "metadata": {
  "kernelspec": {
   "display_name": "Python 3 (ipykernel)",
   "language": "python",
   "name": "python3"
  },
  "language_info": {
   "codemirror_mode": {
    "name": "ipython",
    "version": 3
   },
   "file_extension": ".py",
   "mimetype": "text/x-python",
   "name": "python",
   "nbconvert_exporter": "python",
   "pygments_lexer": "ipython3",
   "version": "3.12.4"
  }
 },
 "nbformat": 4,
 "nbformat_minor": 5
}
